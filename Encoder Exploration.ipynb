{
  "nbformat": 4,
  "nbformat_minor": 0,
  "metadata": {
    "colab": {
      "name": "Encoder Exploration.ipynb",
      "version": "0.3.2",
      "provenance": [],
      "toc_visible": true
    },
    "kernelspec": {
      "display_name": "Python 3",
      "language": "python",
      "name": "python3"
    }
  },
  "cells": [
    {
      "metadata": {
        "id": "HkbFXJ9dO7ej",
        "colab_type": "text"
      },
      "cell_type": "markdown",
      "source": [
        "# Encoder Project - practice notebook\n",
        "\n",
        "This notebook will give you all the skills you need to code your Encoder Project"
      ]
    },
    {
      "metadata": {
        "id": "Sa4ZuDMvO7ez",
        "colab_type": "text"
      },
      "cell_type": "markdown",
      "source": [
        "## Reading from Files in Python"
      ]
    },
    {
      "metadata": {
        "id": "jZ8G-5fwO7e6",
        "colab_type": "text"
      },
      "cell_type": "markdown",
      "source": [
        "In order to work with files you need a variable called a FILE HANDLE - think of it as the variable you can then use to GRAB the file\n"
      ]
    },
    {
      "metadata": {
        "id": "FNg4MUwvO7fG",
        "colab_type": "text"
      },
      "cell_type": "markdown",
      "source": [
        "Suppose you want to write to a file called work.txt  here's how you wpuld create it (if it does not yet exist) and open it.\n"
      ]
    },
    {
      "metadata": {
        "id": "8rHsjbm4O7fN",
        "colab_type": "code",
        "colab": {}
      },
      "cell_type": "code",
      "source": [
        "f = open('input.txt', 'w')"
      ],
      "execution_count": 0,
      "outputs": []
    },
    {
      "metadata": {
        "id": "2uugUMi6O7fm",
        "colab_type": "code",
        "colab": {},
        "outputId": "5a115dec-ec0b-4c3d-f96c-41c1d3fa6d58"
      },
      "cell_type": "code",
      "source": [
        "f"
      ],
      "execution_count": 0,
      "outputs": [
        {
          "output_type": "execute_result",
          "data": {
            "text/plain": [
              "<_io.TextIOWrapper name='work.txt' mode='w' encoding='UTF-8'>"
            ]
          },
          "metadata": {
            "tags": []
          },
          "execution_count": 2
        }
      ]
    },
    {
      "metadata": {
        "id": "GGWoCxKwO7ga",
        "colab_type": "text"
      },
      "cell_type": "markdown",
      "source": [
        "# Question 1:\n",
        "\n",
        "What happened? (Hint: have a look in the directory structure)"
      ]
    },
    {
      "metadata": {
        "id": "SJm6wmeDO7gi",
        "colab_type": "text"
      },
      "cell_type": "markdown",
      "source": [
        "# Answer 1:\n",
        "\n",
        "f is a variable that holds data to open a file called 'input.txt' for writing."
      ]
    },
    {
      "metadata": {
        "id": "gvYYpZ2xO7gu",
        "colab_type": "text"
      },
      "cell_type": "markdown",
      "source": [
        "# Question 2\n",
        "\n",
        "The line of code above opens a file for WRITING - how could you change it to open a file for READING?"
      ]
    },
    {
      "metadata": {
        "id": "K3rhSbRTO7gz",
        "colab_type": "text"
      },
      "cell_type": "markdown",
      "source": [
        "# Answer 2:\n",
        "\n",
        "replace 'w' with 'r'"
      ]
    },
    {
      "metadata": {
        "id": "w2dAxJMkO7g7",
        "colab_type": "text"
      },
      "cell_type": "markdown",
      "source": [
        "# Task:\n",
        "Put some words into the file (open it up and type them in!). One on each line, or separated by commas if there are more than one word per line. Start like this for instance:\n",
        "```\n",
        "apple, banana, pear\n",
        "grapefruit\n",
        "grape, satsuma, watermelon\n",
        "litchi\n",
        "```\n",
        "\n",
        "add at least 10\n",
        "\n",
        "**remember to SAVE the file!**\n"
      ]
    },
    {
      "metadata": {
        "id": "OpaWlqb7O7g_",
        "colab_type": "code",
        "colab": {
          "base_uri": "https://localhost:8080/",
          "height": 193
        },
        "outputId": "f0ca1867-de9b-4613-9d9a-22cac978ee99"
      },
      "cell_type": "code",
      "source": [
        "f = open('work.txt', 'r')\n",
        "fileContents = f.readlines()\n",
        "fileContents"
      ],
      "execution_count": 2,
      "outputs": [
        {
          "output_type": "execute_result",
          "data": {
            "text/plain": [
              "['apple, banana, pear\\n',\n",
              " 'grapefruit\\n',\n",
              " 'grape, satsuma, watermelon\\n',\n",
              " 'litchi\\n',\n",
              " 'kyle, doanh, alex\\n',\n",
              " 'YAOI\\n',\n",
              " 'anisa, farah, abeer\\n',\n",
              " 'YURI\\n',\n",
              " 'orhan, x, toki\\n',\n",
              " 'COWBOY']"
            ]
          },
          "metadata": {
            "tags": []
          },
          "execution_count": 2
        }
      ]
    },
    {
      "metadata": {
        "id": "MQO2RNoJO7hT",
        "colab_type": "text"
      },
      "cell_type": "markdown",
      "source": [
        "# Question 3:\n",
        "\n",
        "What **data type** is fileContents?"
      ]
    },
    {
      "metadata": {
        "id": "yZzuWrX7O7hY",
        "colab_type": "text"
      },
      "cell_type": "markdown",
      "source": [
        "# Answer 3:\n",
        "\n",
        "\n",
        "Built-In function\n"
      ]
    },
    {
      "metadata": {
        "id": "Dfsomf2CO7he",
        "colab_type": "code",
        "colab": {},
        "outputId": "c6196573-ba1b-4eca-f4d8-44b967999f69"
      },
      "cell_type": "code",
      "source": [
        "f = open('work.txt', 'r')\n",
        "fileContents = f.read()\n",
        "fileContents"
      ],
      "execution_count": 0,
      "outputs": [
        {
          "output_type": "execute_result",
          "data": {
            "text/plain": [
              "'apple, banana, pear\\ngrapefruit\\ngrape, satsuma, watermelon\\nlitchi'"
            ]
          },
          "metadata": {
            "tags": []
          },
          "execution_count": 36
        }
      ]
    },
    {
      "metadata": {
        "id": "cPtb8n8nO7h4",
        "colab_type": "text"
      },
      "cell_type": "markdown",
      "source": [
        "# Question 4:\n",
        "\n",
        "What **data type** is fileContents now? **Why?**"
      ]
    },
    {
      "metadata": {
        "id": "ECXe0tVOO7h9",
        "colab_type": "text"
      },
      "cell_type": "markdown",
      "source": [
        "# Answer 4:\n",
        "\n",
        "\n",
        "Data type = ?\n",
        "\n",
        "Why = readlines have been changed to read"
      ]
    },
    {
      "metadata": {
        "id": "hWPnN2tnO7iC",
        "colab_type": "text"
      },
      "cell_type": "markdown",
      "source": [
        "# Think\n",
        "\n",
        "Do you notice that you have a newline character ```\\n``` at the end of each line  in the file? That's because you typed ENTER after each line and this is a valid character and so is read like any other\n",
        "\n",
        "so you need to remove the newline character... \n",
        "\n",
        "Also, we've got to choose where to go with lists (of strings) like these:\n",
        "\n",
        "``` python\n",
        "['apple, banana, pear\\n',\n",
        " 'grapefruit\\n',\n",
        " 'grape, satsuma, watermelon\\n',\n",
        " 'litchi'] \n",
        "```\n",
        "or strings like these:\n",
        "\n",
        "``` python\n",
        "'apple, banana, pear\\ngrapefruit\\ngrape, satsuma, watermelon\\nlitchi'\n",
        "```\n",
        "and then turn either one into a *clean* list of strings like this:\n",
        "``` python\n",
        "['apple', 'banana', 'pear','grapefruit','grape', 'satsuma', 'watermelon','litchi'] \n",
        "```\n"
      ]
    },
    {
      "metadata": {
        "id": "C5ownLeSO7iF",
        "colab_type": "text"
      },
      "cell_type": "markdown",
      "source": [
        "## Python string methods \n",
        "\n",
        "https://docs.python.org/3.3/library/stdtypes.html#string-methods"
      ]
    },
    {
      "metadata": {
        "id": "228YrGOBO7iL",
        "colab_type": "text"
      },
      "cell_type": "markdown",
      "source": [
        "# Experiment  - SPLIT\n",
        "\n",
        "```python\n",
        "    str.split(sep=None)\n",
        "```"
      ]
    },
    {
      "metadata": {
        "id": "9m_HVY9pO7iT",
        "colab_type": "code",
        "colab": {},
        "outputId": "b226f5cc-fae6-4ee2-8184-85541ab025d1"
      },
      "cell_type": "code",
      "source": [
        "s = \"This is a long example string, @ with lots of different @&% bits 012xyz\"\n",
        "s.split(\"o\") "
      ],
      "execution_count": 0,
      "outputs": [
        {
          "output_type": "execute_result",
          "data": {
            "text/plain": [
              "['This is a l',\n",
              " 'ng example string, @ with l',\n",
              " 'ts ',\n",
              " 'f different @&% bits 012xyz']"
            ]
          },
          "metadata": {
            "tags": []
          },
          "execution_count": 6
        }
      ]
    },
    {
      "metadata": {
        "id": "28EaW3SoO7im",
        "colab_type": "text"
      },
      "cell_type": "markdown",
      "source": [
        "## What does the .split() method do?\n",
        "\n",
        "Split makes a new line that starts from the character assigned to it."
      ]
    },
    {
      "metadata": {
        "id": "1r-9HrWeO7iq",
        "colab_type": "text"
      },
      "cell_type": "markdown",
      "source": [
        "# Experiment  - STRIP\n",
        "\n",
        "```python\n",
        "str.strip(chars)\n",
        "```\n"
      ]
    },
    {
      "metadata": {
        "id": "SCDNmsiRO7ix",
        "colab_type": "code",
        "colab": {},
        "outputId": "6d2db3d1-d10b-48ea-a8e8-1dd2bd942ead"
      },
      "cell_type": "code",
      "source": [
        "s=\"ooohello worldoooo\"\n",
        "newS = s.strip(\"o\")\n",
        "print(newS)\n",
        "newS = s.strip(\"oh\")\n",
        "print(newS)\n",
        "newS = s.strip(\"r\")\n",
        "print(newS)"
      ],
      "execution_count": 0,
      "outputs": [
        {
          "output_type": "stream",
          "text": [
            "hello world\n",
            "ello world\n",
            "ooohello worldoooo\n"
          ],
          "name": "stdout"
        }
      ]
    },
    {
      "metadata": {
        "id": "GyPOwbjfO7jf",
        "colab_type": "text"
      },
      "cell_type": "markdown",
      "source": [
        "## What does the .strip() method do?\n",
        "\n",
        "Split takes the leading and trailing characters assigned to it, however doesn't take characters that aren't leading or trailing."
      ]
    },
    {
      "metadata": {
        "id": "S_xsyp03O7jl",
        "colab_type": "text"
      },
      "cell_type": "markdown",
      "source": [
        "## Task \n",
        "\n",
        "Write python code to\n",
        "- open the text file for reading\n",
        "- read the contents into a list or string (you choose)\n",
        "- create a list of strings with no newline characters\n",
        "- print the final list to see that you have been successful"
      ]
    },
    {
      "metadata": {
        "id": "EoBVC5kSO7jy",
        "colab_type": "code",
        "colab": {
          "base_uri": "https://localhost:8080/",
          "height": 34
        },
        "outputId": "01675beb-baa6-4a3b-ddc2-7915334c9aa4"
      },
      "cell_type": "code",
      "source": [
        "f = open('workver2.txt', 'r')\n",
        "fileContents = f.read()\n",
        "fileContents"
      ],
      "execution_count": 3,
      "outputs": [
        {
          "output_type": "execute_result",
          "data": {
            "text/plain": [
              "'apple, banana, pear'"
            ]
          },
          "metadata": {
            "tags": []
          },
          "execution_count": 3
        }
      ]
    },
    {
      "metadata": {
        "id": "v-C8tHu2O7kW",
        "colab_type": "text"
      },
      "cell_type": "markdown",
      "source": [
        "\n",
        "# Strings\n",
        "\n",
        "A string in python is built-in or standard data type that is made of a sequence of [Unicode](https://en.wikipedia.org/wiki/Unicode) characters. Strings are [immutable](https://en.wikibooks.org/wiki/Python_Programming/Data_Types#Mutable_vs_Immutable_Objects)\n",
        "\n",
        "e.g. \"hello\", \"abc123\", \"hello world\", \"CD9-023-4F%\" , \"I just can't get enough\"\n",
        "\n",
        "## NOTE ON SYNTAX: \n",
        "You can use single quotes in Python but we will always use double quotes because\n",
        "\n",
        "1) The you can write strings like  \"I just can't get enough\"\n",
        "\n",
        "2) Its more consistent with other langauges like C and Java\n",
        "\n",
        "## Manipulating Strings with python [String methods](https://docs.python.org/3.3/library/stdtypes.html#text-sequence-type-str)\n",
        "\n",
        "### Finding substrings or characters in Strings\n",
        "\n",
        "```python\n",
        "    str.find(sub)\n",
        "```\n",
        "Return the lowest index in the string where substring sub is found. Return -1 if sub is not found."
      ]
    },
    {
      "metadata": {
        "id": "6TUOmLSNO7ke",
        "colab_type": "code",
        "colab": {
          "base_uri": "https://localhost:8080/",
          "height": 34
        },
        "outputId": "fed08b3a-6561-44ca-819c-892a4f1d6a3d"
      },
      "cell_type": "code",
      "source": [
        "s = \"we are the world\"\n",
        "s.find(\"are\")"
      ],
      "execution_count": 11,
      "outputs": [
        {
          "output_type": "execute_result",
          "data": {
            "text/plain": [
              "0"
            ]
          },
          "metadata": {
            "tags": []
          },
          "execution_count": 11
        }
      ]
    },
    {
      "metadata": {
        "id": "4aMI-xuyO7k3",
        "colab_type": "code",
        "colab": {
          "base_uri": "https://localhost:8080/",
          "height": 34
        },
        "outputId": "55620381-c8de-4777-ee77-a85e46138f6f"
      },
      "cell_type": "code",
      "source": [
        "s.find(\"z\")"
      ],
      "execution_count": 5,
      "outputs": [
        {
          "output_type": "execute_result",
          "data": {
            "text/plain": [
              "-1"
            ]
          },
          "metadata": {
            "tags": []
          },
          "execution_count": 5
        }
      ]
    },
    {
      "metadata": {
        "id": "vDUI7k1AO7lV",
        "colab_type": "text"
      },
      "cell_type": "markdown",
      "source": [
        "## Question\n",
        "\n",
        "What if the substring (which may be one character) appears twice?\n",
        "\n",
        "## Your Answer:\n",
        "\n",
        "It will return the first substring"
      ]
    },
    {
      "metadata": {
        "id": "jyX5_sjSO7l6",
        "colab_type": "text"
      },
      "cell_type": "markdown",
      "source": [
        "### Removing substrings or characters in Strings\n",
        "\n",
        "Because Python strings are immutable there is no method for this, so you'll have to write a your own function. It will actually produce another string which can then just be assigned to the original string so its seems like its changed, but actually the variable is pointing to another part of memory. This means lots of variables are created in memory that can no longer be accessed and so as not to waste memory Python will need to done some [garbage collection](https://docs.python.org/3/glossary.html#term-garbage-collection). Luckily Python does this for you\n"
      ]
    },
    {
      "metadata": {
        "id": "XLp_nygLO7mB",
        "colab_type": "code",
        "colab": {}
      },
      "cell_type": "code",
      "source": [
        "#This function removes the character c from the string s\n",
        "def removeCharFromString(c, s):\n",
        "    \n",
        "    return s\n",
        "    "
      ],
      "execution_count": 0,
      "outputs": []
    },
    {
      "metadata": {
        "id": "Kzgl2dBwO7mT",
        "colab_type": "code",
        "colab": {}
      },
      "cell_type": "code",
      "source": [
        "newS= removeCharFromString(\"a\",\"that was alot of fun\")"
      ],
      "execution_count": 0,
      "outputs": []
    },
    {
      "metadata": {
        "id": "-zvOmr8sO7mZ",
        "colab_type": "code",
        "colab": {},
        "outputId": "ddc336e9-d661-4684-a67a-a7ae5376500e"
      },
      "cell_type": "code",
      "source": [
        "# TESTING\n",
        "# run this assert, if you function works correctly, it won't return \n",
        "# an AssertionError\n",
        "assert(removeCharFromString(\"a\", \"that was fun\") == \"tht ws lot of fun\")"
      ],
      "execution_count": 0,
      "outputs": [
        {
          "output_type": "error",
          "ename": "AssertionError",
          "evalue": "",
          "traceback": [
            "\u001b[0;31m---------------------------------------------------------------------------\u001b[0m",
            "\u001b[0;31mAssertionError\u001b[0m                            Traceback (most recent call last)",
            "\u001b[0;32m<ipython-input-31-a7c72c96cfe0>\u001b[0m in \u001b[0;36m<module>\u001b[0;34m\u001b[0m\n\u001b[1;32m      1\u001b[0m \u001b[0;31m# run this assert, if you function works correctly, it won't return\u001b[0m\u001b[0;34m\u001b[0m\u001b[0;34m\u001b[0m\u001b[0m\n\u001b[1;32m      2\u001b[0m \u001b[0;31m# an AssertionError\u001b[0m\u001b[0;34m\u001b[0m\u001b[0;34m\u001b[0m\u001b[0m\n\u001b[0;32m----> 3\u001b[0;31m \u001b[0;32massert\u001b[0m\u001b[0;34m(\u001b[0m\u001b[0mremoveCharFromString\u001b[0m\u001b[0;34m(\u001b[0m\u001b[0;34m\"a\"\u001b[0m\u001b[0;34m,\u001b[0m \u001b[0;34m\"that was fun\"\u001b[0m\u001b[0;34m)\u001b[0m \u001b[0;34m==\u001b[0m \u001b[0;34m\"tht ws lot of fun\"\u001b[0m\u001b[0;34m)\u001b[0m\u001b[0;34m\u001b[0m\u001b[0m\n\u001b[0m",
            "\u001b[0;31mAssertionError\u001b[0m: "
          ]
        }
      ]
    },
    {
      "metadata": {
        "id": "4ArJIy7hO7mp",
        "colab_type": "text"
      },
      "cell_type": "markdown",
      "source": [
        "## Task : find and replace\n",
        "\n",
        "Now write another function that will find a character in a string an replace it with another character that the user chooses. Adapt your code for ```removeCharFromString``` to achieve this"
      ]
    },
    {
      "metadata": {
        "id": "9vRz36K7O7ms",
        "colab_type": "code",
        "colab": {}
      },
      "cell_type": "code",
      "source": [
        "def findReplaceChar(findCh, replaceCh, s):\n",
        "    \n",
        "    return s"
      ],
      "execution_count": 0,
      "outputs": []
    },
    {
      "metadata": {
        "id": "NhKi0bLrO7m8",
        "colab_type": "code",
        "colab": {}
      },
      "cell_type": "code",
      "source": [
        "newS= findReplaceChar(\"a\", \"b\", \"that was alot of fun\")"
      ],
      "execution_count": 0,
      "outputs": []
    },
    {
      "metadata": {
        "id": "_M_vHVEYO7nE",
        "colab_type": "code",
        "colab": {},
        "outputId": "074fa3bd-76f2-40cd-b59d-8999c8387a51"
      },
      "cell_type": "code",
      "source": [
        "# TESTING\n",
        "# run this assert, if you function works correctly, it won't return \n",
        "# an AssertionError\n",
        "\n",
        "assert (findReplaceChar(\"a\", \"b\", \"that was alot of fun\") == \"thbt wbs blot of fun\")"
      ],
      "execution_count": 0,
      "outputs": [
        {
          "output_type": "error",
          "ename": "AssertionError",
          "evalue": "",
          "traceback": [
            "\u001b[0;31m---------------------------------------------------------------------------\u001b[0m",
            "\u001b[0;31mAssertionError\u001b[0m                            Traceback (most recent call last)",
            "\u001b[0;32m<ipython-input-38-3071dbab50ca>\u001b[0m in \u001b[0;36m<module>\u001b[0;34m\u001b[0m\n\u001b[1;32m      3\u001b[0m \u001b[0;31m# an AssertionError\u001b[0m\u001b[0;34m\u001b[0m\u001b[0;34m\u001b[0m\u001b[0m\n\u001b[1;32m      4\u001b[0m \u001b[0;34m\u001b[0m\u001b[0m\n\u001b[0;32m----> 5\u001b[0;31m \u001b[0;32massert\u001b[0m \u001b[0;34m(\u001b[0m\u001b[0mfindReplaceChar\u001b[0m\u001b[0;34m(\u001b[0m\u001b[0;34m\"a\"\u001b[0m\u001b[0;34m,\u001b[0m \u001b[0;34m\"b\"\u001b[0m\u001b[0;34m,\u001b[0m \u001b[0;34m\"that was alot of fun\"\u001b[0m\u001b[0;34m)\u001b[0m \u001b[0;34m==\u001b[0m \u001b[0;34m\"thbt wbs blot of fun\"\u001b[0m\u001b[0;34m)\u001b[0m\u001b[0;34m\u001b[0m\u001b[0m\n\u001b[0m",
            "\u001b[0;31mAssertionError\u001b[0m: "
          ]
        }
      ]
    },
    {
      "metadata": {
        "id": "olSOuyDSO7nO",
        "colab_type": "text"
      },
      "cell_type": "markdown",
      "source": [
        "## Writing lists to files in python\n",
        "\n",
        "Once you have manipulated your list of strings, you'll want to save the content of the list back into a file. This sample code shows you how:"
      ]
    },
    {
      "metadata": {
        "id": "vJkSsSlCO7nT",
        "colab_type": "code",
        "colab": {}
      },
      "cell_type": "code",
      "source": [
        "wordList = ['one','two','three']\n",
        "f = open('output.txt', 'w')\n",
        "f.writelines(wordList)\n",
        "f.close()"
      ],
      "execution_count": 0,
      "outputs": []
    },
    {
      "metadata": {
        "id": "PpEgT3BTO7nf",
        "colab_type": "text"
      },
      "cell_type": "markdown",
      "source": [
        "## what happened? Look at your folder structure\n",
        "\n",
        "*your answer here*"
      ]
    },
    {
      "metadata": {
        "id": "gelDzwY0O7nm",
        "colab_type": "code",
        "colab": {}
      },
      "cell_type": "code",
      "source": [
        "# now use your skills to write each word, one by one, on a new line in the file.\n"
      ],
      "execution_count": 0,
      "outputs": []
    }
  ]
}